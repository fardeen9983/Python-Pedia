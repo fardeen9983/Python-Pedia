{
 "cells": [
  {
   "cell_type": "code",
   "execution_count": 71,
   "metadata": {
    "collapsed": true,
    "pycharm": {
     "is_executing": false
    }
   },
   "outputs": [
    {
     "name": "stdout",
     "text": [
      "<html>\n <head>\n  <title>\n   The Dormouse's story\n  </title>\n </head>\n <body>\n  <p class=\"title\">\n   <b>\n    The Dormouse's story\n   </b>\n  </p>\n  <p class=\"story\">\n   Once upon a time there were three little sisters; their names:\n   <a class=\"sister\" href=\"http://example.com/elsie\" id=\"link1\">\n    Elsie\n   </a>\n   ,\n   <a class=\"sister\" href=\"http://example.com/lacie\" id=\"link2\">\n    Lacie\n   </a>\n   and\n   <a class=\"sister\" href=\"http://example.com/tillie\" id=\"link3\">\n    Tillie\n   </a>\n   ;\nand they lived at the bottom of a well.\n  </p>\n  <p class=\"story\">\n   ...\n  </p>\n  <b class=\"boldest\">\n   Extremely bold\n  </b>\n  <blockquote class=\"boldest\">\n   Extremely bold\n  </blockquote>\n  <b id=\"1\">\n   Test 1\n  </b>\n  <b another-attribute=\"1\" id=\"verybold\">\n   Test 2\n  </b>\n </body>\n</html>\n"
     ],
     "output_type": "stream"
    }
   ],
   "source": [
    "# Set up Beautiful Soup\n",
    "from bs4 import BeautifulSoup as BS\n",
    "\n",
    "# Sample HTML Doc\n",
    "html_doc = \"\"\"\n",
    "<html><head><title>The Dormouse's story</title></head>\n",
    "<body>\n",
    "<p class=\"title\"><b>The Dormouse's story</b></p>\n",
    "<p class=\"story\">Once upon a time there were three little sisters; their names:\n",
    "<a href=\"http://example.com/elsie\" class=\"sister\" id=\"link1\">Elsie</a>,\n",
    "<a href=\"http://example.com/lacie\" class=\"sister\" id=\"link2\">Lacie</a> and\n",
    "<a href=\"http://example.com/tillie\" class=\"sister\" id=\"link3\">Tillie</a>;\n",
    "and they lived at the bottom of a well.</p>\n",
    "<p class=\"story\">...</p>\n",
    "<b class=\"boldest\">Extremely bold</b>\n",
    "<blockquote class=\"boldest\">Extremely bold</blockquote>\n",
    "<b id=\"1\">Test 1</b>\n",
    "<b another-attribute=\"1\" id=\"verybold\">Test 2</b>\n",
    "\"\"\"\n",
    "\n",
    "# Save this as an HTML file\n",
    "with open(\"index.html\",'w') as f: \n",
    "    f.write(html_doc)\n",
    "\n",
    "# Parse the HTML Code\n",
    "soup = BS(html_doc,'lxml')\n",
    "\n",
    "# Beautify the html code \n",
    "print(soup.prettify())"
   ]
  },
  {
   "cell_type": "code",
   "execution_count": 73,
   "outputs": [
    {
     "name": "stdout",
     "text": [
      "<b>The Dormouse's story</b> \n\n<p><b>The Dormouse's story</b></p> \n\n[<b>The Dormouse's story</b>, <b class=\"boldest\">Extremely bold</b>, <b id=\"1\">Test 1</b>, <b another-attribute=\"5\" id=\"verybold\">Test 2</b>] \n\nb \n\n5\n{'href': 'http://example.com/elsie', 'class': ['sister'], 'id': 'link1'} \n\n{'another-attribute': 5, 'id': 'verybold'} \n\n{} \n\n"
     ],
     "output_type": "stream"
    }
   ],
   "source": [
    "# Find first occurrence of Bold tag\n",
    "print(soup.b,\"\\n\")\n",
    "\n",
    "# Find first occurrence of p tag\n",
    "print(soup.find('p'),\"\\n\")\n",
    "\n",
    "# Find all occurrences of b tag\n",
    "print(soup.find_all('b'),'\\n')\n",
    "\n",
    "# Print the name of the tags\n",
    "print(soup.b.name,\"\\n\")\n",
    "\n",
    "# To access attributes of a tag\n",
    "tag = soup.find_all('b')[3]\n",
    "print(tag['another-attribute'],)\n",
    "\n",
    "# Print all the attributes as a dictionary\n",
    "tag = soup.a\n",
    "print(tag.attrs,\"\\n\")\n",
    "\n",
    "# Modify an attribute\n",
    "tag = soup.find_all('b')[3]\n",
    "tag['another-attribute'] = 5\n",
    "print(tag.attrs,\"\\n\")\n",
    "\n",
    "# Delete an attribute\n",
    "tag = soup.find('p')\n",
    "del tag['class']\n",
    "print(tag.attrs,\"\\n\")"
   ],
   "metadata": {
    "collapsed": false,
    "pycharm": {
     "name": "#%%\n",
     "is_executing": false
    }
   }
  }
 ],
 "metadata": {
  "language_info": {
   "codemirror_mode": {
    "name": "ipython",
    "version": 2
   },
   "file_extension": ".py",
   "mimetype": "text/x-python",
   "name": "python",
   "nbconvert_exporter": "python",
   "pygments_lexer": "ipython2",
   "version": "2.7.6"
  },
  "kernelspec": {
   "name": "python3",
   "language": "python",
   "display_name": "Python 3"
  },
  "pycharm": {
   "stem_cell": {
    "cell_type": "raw",
    "source": [],
    "metadata": {
     "collapsed": false
    }
   }
  }
 },
 "nbformat": 4,
 "nbformat_minor": 0
}