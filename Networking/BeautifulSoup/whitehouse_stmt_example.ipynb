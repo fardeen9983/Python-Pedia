{
 "cells": [
  {
   "cell_type": "markdown",
   "metadata": {
    "collapsed": true,
    "pycharm": {
     "name": "#%% md\n"
    }
   },
   "source": [
    "# WhiteHouse statements briefing example\n",
    "We are going to scrap through the official website of White House and extract some useful information such as links to all briefing and statements\n",
    "\n",
    "First of all set up BeautifulSoup module and point it to the target website"
   ]
  },
  {
   "cell_type": "code",
   "execution_count": 28,
   "outputs": [],
   "source": [
    "import requests\n",
    "from bs4 import BeautifulSoup as BS\n",
    "\n",
    "result = requests.get(\"https://www.whitehouse.gov/briefings-statements/\")\n",
    "soup = BS(result.content,'lxml')"
   ],
   "metadata": {
    "collapsed": false,
    "pycharm": {
     "name": "#%%\n",
     "is_executing": false
    }
   }
  },
  {
   "cell_type": "markdown",
   "source": [
    "If we open the links to briefings and statements in the given link in the inspector tool,we find that they are always placed in h2 tags with a class 'briefing-statement__title'\n",
    "\n",
    "So will find all the h2 tags and loop through them and find the needed links"
   ],
   "metadata": {
    "collapsed": false,
    "pycharm": {
     "name": "#%% md\n"
    }
   }
  },
  {
   "cell_type": "code",
   "execution_count": 209,
   "outputs": [
    {
     "data": {
      "text/plain": "['https://www.whitehouse.gov/briefings-statements/remarks-president-trump-second-chance-hiring/',\n 'https://www.whitehouse.gov/briefings-statements/remarks-president-trump-working-lunch-governors-workforce-freedom-mobility/',\n 'https://www.whitehouse.gov/briefings-statements/remarks-vice-president-pence-press-gaggle-5/',\n 'https://www.whitehouse.gov/briefings-statements/remarks-vice-president-pence-yellowstone-national-park/',\n 'https://www.whitehouse.gov/briefings-statements/president-donald-j-trump-helping-americans-gain-second-chance-build-brighter-future/',\n 'https://www.whitehouse.gov/briefings-statements/message-congress-continuation-national-emergency-respect-belarus/',\n 'https://www.whitehouse.gov/briefings-statements/text-notice-continuation-national-emergency-respect-belarus/',\n 'https://www.whitehouse.gov/briefings-statements/remarks-vice-president-pence-briefing-hidta-task-force-yellowstone-substance-abuse-coalition-billings-mt/',\n 'https://www.whitehouse.gov/briefings-statements/remarks-vice-president-pence-press-gaggle-billings-mt/',\n 'https://www.whitehouse.gov/briefings-statements/remarks-vice-president-pence-riverstone-health-clinic/']"
     },
     "metadata": {},
     "output_type": "execute_result",
     "execution_count": 209
    }
   ],
   "source": [
    "links = []\n",
    "for h2 in soup.find_all('h2'):\n",
    "    if \"briefing-statement__title\" in h2.attrs['class']:\n",
    "        for a in h2.find_all('a'):\n",
    "            links.append(a.attrs[\"href\"])\n",
    "links"
   ],
   "metadata": {
    "collapsed": false,
    "pycharm": {
     "name": "#%%\n",
     "is_executing": false
    }
   }
  }
 ],
 "metadata": {
  "language_info": {
   "codemirror_mode": {
    "name": "ipython",
    "version": 2
   },
   "file_extension": ".py",
   "mimetype": "text/x-python",
   "name": "python",
   "nbconvert_exporter": "python",
   "pygments_lexer": "ipython2",
   "version": "2.7.6"
  },
  "kernelspec": {
   "name": "python3",
   "language": "python",
   "display_name": "Python 3"
  },
  "pycharm": {
   "stem_cell": {
    "cell_type": "raw",
    "source": [],
    "metadata": {
     "collapsed": false
    }
   }
  }
 },
 "nbformat": 4,
 "nbformat_minor": 0
}