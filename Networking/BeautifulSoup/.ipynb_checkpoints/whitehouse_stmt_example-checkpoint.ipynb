{
 "cells": [
  {
   "cell_type": "markdown",
   "metadata": {
    "collapsed": true,
    "pycharm": {
     "name": "#%% md\n"
    }
   },
   "source": [
    "# WhiteHouse statements briefing example\n",
    "We are going to scrap through the official website of White House and extract some useful information such as links to all briefing and statements\n",
    "\n",
    "First of all set up BeautifulSoup module and point it to the target website"
   ]
  },
  {
   "cell_type": "code",
   "execution_count": 28,
   "metadata": {
    "pycharm": {
     "is_executing": false,
     "name": "#%%\n"
    }
   },
   "outputs": [],
   "source": [
    "import requests\n",
    "from bs4 import BeautifulSoup as BS\n",
    "\n",
    "result = requests.get(\"https://www.whitehouse.gov/briefings-statements/\")\n",
    "soup = BS(result.content,'lxml')"
   ]
  },
  {
   "cell_type": "markdown",
   "metadata": {
    "pycharm": {
     "name": "#%% md\n"
    }
   },
   "source": [
    "If we open the links to briefings and statements in the given link in the inspector tool,we find that they are always placed in h2 tags with a class 'briefing-statement__title'\n",
    "\n",
    "So will find all the h2 tags and loop through them and find the needed links"
   ]
  },
  {
   "cell_type": "code",
   "execution_count": 209,
   "metadata": {
    "pycharm": {
     "is_executing": false,
     "name": "#%%\n"
    }
   },
   "outputs": [
    {
     "data": {
      "text/plain": [
       "['https://www.whitehouse.gov/briefings-statements/remarks-president-trump-second-chance-hiring/',\n",
       " 'https://www.whitehouse.gov/briefings-statements/remarks-president-trump-working-lunch-governors-workforce-freedom-mobility/',\n",
       " 'https://www.whitehouse.gov/briefings-statements/remarks-vice-president-pence-press-gaggle-5/',\n",
       " 'https://www.whitehouse.gov/briefings-statements/remarks-vice-president-pence-yellowstone-national-park/',\n",
       " 'https://www.whitehouse.gov/briefings-statements/president-donald-j-trump-helping-americans-gain-second-chance-build-brighter-future/',\n",
       " 'https://www.whitehouse.gov/briefings-statements/message-congress-continuation-national-emergency-respect-belarus/',\n",
       " 'https://www.whitehouse.gov/briefings-statements/text-notice-continuation-national-emergency-respect-belarus/',\n",
       " 'https://www.whitehouse.gov/briefings-statements/remarks-vice-president-pence-briefing-hidta-task-force-yellowstone-substance-abuse-coalition-billings-mt/',\n",
       " 'https://www.whitehouse.gov/briefings-statements/remarks-vice-president-pence-press-gaggle-billings-mt/',\n",
       " 'https://www.whitehouse.gov/briefings-statements/remarks-vice-president-pence-riverstone-health-clinic/']"
      ]
     },
     "execution_count": 209,
     "metadata": {},
     "output_type": "execute_result"
    }
   ],
   "source": [
    "links = []\n",
    "for h2 in soup.find_all('h2'):\n",
    "    if \"briefing-statement__title\" in h2.attrs['class']:\n",
    "        for a in h2.find_all('a'):\n",
    "            links.append(a.attrs[\"href\"])\n",
    "links"
   ]
  }
 ],
 "metadata": {
  "kernelspec": {
   "display_name": "Python 3",
   "language": "python",
   "name": "python3"
  },
  "language_info": {
   "codemirror_mode": {
    "name": "ipython",
    "version": 3
   },
   "file_extension": ".py",
   "mimetype": "text/x-python",
   "name": "python",
   "nbconvert_exporter": "python",
   "pygments_lexer": "ipython3",
   "version": "3.6.8"
  },
  "pycharm": {
   "stem_cell": {
    "cell_type": "raw",
    "metadata": {
     "collapsed": false
    },
    "source": []
   }
  }
 },
 "nbformat": 4,
 "nbformat_minor": 1
}
