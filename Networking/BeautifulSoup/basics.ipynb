{
 "cells": [
  {
   "cell_type": "markdown",
   "metadata": {
    "collapsed": true,
    "pycharm": {
     "name": "#%% md\n"
    }
   },
   "source": [
    "# Beautiful Soup \n",
    "Beautiful Soap is created to scrap data from online websites"
   ]
  },
  {
   "cell_type": "code",
   "execution_count": 63,
   "metadata": {
    "pycharm": {
     "is_executing": false,
     "name": "#%%\n"
    }
   },
   "outputs": [
    {
     "data": {
      "text/plain": [
       "200"
      ]
     },
     "execution_count": 63,
     "metadata": {},
     "output_type": "execute_result"
    }
   ],
   "source": [
    "# Import the required modules to make HTTP requests and perform web scraping using BeautifulSoap\n",
    "# pprintpp used for beautify output\n",
    "\n",
    "from pprint import pprint\n",
    "import requests\n",
    "from bs4 import BeautifulSoup as bs\n",
    "\n",
    "# Make a get request to an example URL and print the status code of the response\n",
    "# 200 is positive response\n",
    "response = requests.get(\"https://www.google.com\")\n",
    "response.status_code"
   ]
  },
  {
   "cell_type": "markdown",
   "metadata": {
    "pycharm": {
     "name": "#%% md\n"
    }
   },
   "source": [
    "### Print some extra information about the header of the response received"
   ]
  },
  {
   "cell_type": "code",
   "execution_count": 61,
   "metadata": {
    "pycharm": {
     "is_executing": false,
     "name": "#%%\n"
    }
   },
   "outputs": [
    {
     "name": "stdout",
     "output_type": "stream",
     "text": [
      "{'_store': OrderedDict([('content-encoding', ('Content-Encoding', 'gzip')),\n",
      "                        ('cache-control',\n",
      "                         ('Cache-Control',\n",
      "                          'private, no-cache, no-store, must-revalidate')),\n",
      "                        ('pragma', ('Pragma', 'no-cache')),\n",
      "                        ('strict-transport-security',\n",
      "                         ('Strict-Transport-Security',\n",
      "                          'max-age=15552000; preload')),\n",
      "                        ('vary', ('Vary', 'Accept-Encoding')),\n",
      "                        ('x-content-type-options',\n",
      "                         ('X-Content-Type-Options', 'nosniff')),\n",
      "                        ('x-frame-options', ('X-Frame-Options', 'DENY')),\n",
      "                        ('x-xss-protection', ('X-XSS-Protection', '0')),\n",
      "                        ('expires',\n",
      "                         ('Expires', 'Sat, 01 Jan 2000 00:00:00 GMT')),\n",
      "                        ('set-cookie',\n",
      "                         ('Set-Cookie',\n",
      "                          'fr=1c76dnfz9Ls1C9QyM..BdA2yd.iU.AAA.0.0.BdA2yd.AWW14yAG; '\n",
      "                          'expires=Sat, 13-Jun-2020 09:45:01 GMT; '\n",
      "                          'Max-Age=31536000; path=/; domain=.facebook.com; '\n",
      "                          'secure; httponly, sb=nWwDXUhb16LW5SmgDEEPRfKc; '\n",
      "                          'expires=Sun, 13-Jun-2021 09:45:01 GMT; '\n",
      "                          'Max-Age=63072000; path=/; domain=.facebook.com; '\n",
      "                          'secure; httponly')),\n",
      "                        ('content-type',\n",
      "                         ('Content-Type', 'text/html; charset=\"utf-8\"')),\n",
      "                        ('x-fb-debug',\n",
      "                         ('X-FB-Debug',\n",
      "                          'MSpt/RVxcllW6WSIOniCE6iGSYoSElkWZ8QkVv4bIlRSF/YDRxXcT2r2BwEAg+tLgEX9mXu3ygZ5vGeaO68yWA==')),\n",
      "                        ('date', ('Date', 'Fri, 14 Jun 2019 09:45:01 GMT')),\n",
      "                        ('transfer-encoding', ('Transfer-Encoding', 'chunked')),\n",
      "                        ('connection', ('Connection', 'keep-alive'))])}\n"
     ]
    }
   ],
   "source": [
    "pprint(object=response.headers.__dict__)"
   ]
  },
  {
   "cell_type": "markdown",
   "metadata": {
    "pycharm": {
     "name": "#%% md\n"
    }
   },
   "source": [
    "### Now we will save the source document of the page we accessed and print it"
   ]
  },
  {
   "cell_type": "code",
   "execution_count": 64,
   "metadata": {
    "pycharm": {
     "is_executing": false,
     "name": "#%%\n"
    }
   },
   "outputs": [
    {
     "name": "stdout",
     "output_type": "stream",
     "text": [
      "<a href=\"/intl/en/about.html\">About Google</a>\n",
      "/intl/en/about.html\n"
     ]
    }
   ],
   "source": [
    "src = response.content\n",
    "# Using Beautiful Soup to parse the data we recieved\n",
    "# Parse the source content. The second parameter can be ignored \n",
    "soup = bs(src,'lxml')\n",
    "\n",
    "# Find all the links/' a ' tags in our source and list them\n",
    "links = soup.find_all('a')\n",
    "\n",
    "# Now find all such links which have the keyword about in them \n",
    "# Print their text and certain attributes\n",
    "for link in links:\n",
    "    if 'about' in link.text.lower():\n",
    "        print(link)\n",
    "        print(link.attrs['href'])"
   ]
  }
 ],
 "metadata": {
  "kernelspec": {
   "display_name": "Python 3",
   "language": "python",
   "name": "python3"
  },
  "language_info": {
   "codemirror_mode": {
    "name": "ipython",
    "version": 3
   },
   "file_extension": ".py",
   "mimetype": "text/x-python",
   "name": "python",
   "nbconvert_exporter": "python",
   "pygments_lexer": "ipython3",
   "version": "3.6.8"
  },
  "pycharm": {
   "stem_cell": {
    "cell_type": "raw",
    "metadata": {
     "collapsed": false
    },
    "source": []
   }
  }
 },
 "nbformat": 4,
 "nbformat_minor": 1
}
