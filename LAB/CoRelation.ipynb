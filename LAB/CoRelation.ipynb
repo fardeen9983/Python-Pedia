{
 "cells": [
  {
   "cell_type": "markdown",
   "source": [
    "### Initialise the list data"
   ],
   "metadata": {
    "collapsed": false,
    "pycharm": {
     "name": "#%% md\n"
    }
   }
  },
  {
   "cell_type": "code",
   "execution_count": 2,
   "metadata": {
    "collapsed": true,
    "pycharm": {
     "is_executing": false
    }
   },
   "outputs": [],
   "source": [
    "a = (1,2,1)\n",
    "b = (2,1,3)"
   ]
  },
  {
   "cell_type": "markdown",
   "source": [
    "### Get the cartesian product"
   ],
   "metadata": {
    "collapsed": false,
    "pycharm": {
     "name": "#%% md\n"
    }
   }
  },
  {
   "cell_type": "code",
   "execution_count": 15,
   "outputs": [
    {
     "data": {
      "text/plain": "[(1, 2), (1, 1), (1, 3), (2, 2), (2, 1), (2, 3), (1, 2), (1, 1), (1, 3)]"
     },
     "metadata": {},
     "output_type": "execute_result",
     "execution_count": 15
    }
   ],
   "source": [
    "cp = []\n",
    "for i in a:\n",
    "    for j in b:\n",
    "        cp.append((i,j))\n",
    "cp"
   ],
   "metadata": {
    "collapsed": false,
    "pycharm": {
     "name": "#%%\n",
     "is_executing": false
    }
   }
  },
  {
   "cell_type": "markdown",
   "source": [
    "### Find occurrences of items in the product"
   ],
   "metadata": {
    "collapsed": false,
    "pycharm": {
     "name": "#%% md\n"
    }
   }
  },
  {
   "cell_type": "code",
   "execution_count": 16,
   "outputs": [
    {
     "data": {
      "text/plain": "[(1, 1), (1, 2), (1, 3)]"
     },
     "metadata": {},
     "output_type": "execute_result",
     "execution_count": 16
    }
   ],
   "source": [
    "count = int(input(\"Enter threshold:\"))\n",
    "distinct = []\n",
    "x = [[i,cp.count(i)] for i in cp]\n",
    "for i in x:\n",
    "    if i[0] not in distinct and i[1] >=count:\n",
    "        distinct.append(i[0])\n",
    "distinct.sort()\n",
    "distinct "
   ],
   "metadata": {
    "collapsed": false,
    "pycharm": {
     "name": "#%%\n",
     "is_executing": false
    }
   }
  },
  {
   "cell_type": "markdown",
   "source": [
    "### Find correlated pairs "
   ],
   "metadata": {
    "collapsed": false,
    "pycharm": {
     "name": "#%% md\n"
    }
   }
  },
  {
   "cell_type": "code",
   "execution_count": 17,
   "outputs": [
    {
     "data": {
      "text/plain": "[(1, 1, 2), (1, 1, 3)]"
     },
     "metadata": {},
     "output_type": "execute_result",
     "execution_count": 17
    }
   ],
   "source": [
    "res = []\n",
    "for i in distinct:\n",
    "    for j in distinct:\n",
    "        if i == j:\n",
    "            continue\n",
    "        if i[len(i)-1] == j[0]:\n",
    "            z = (i[0],i[1],j[1])\n",
    "            if z not in res:\n",
    "                res.append(z)\n",
    "res\n"
   ],
   "metadata": {
    "collapsed": false,
    "pycharm": {
     "name": "#%%\n",
     "is_executing": false
    }
   }
  }
 ],
 "metadata": {
  "language_info": {
   "codemirror_mode": {
    "name": "ipython",
    "version": 2
   },
   "file_extension": ".py",
   "mimetype": "text/x-python",
   "name": "python",
   "nbconvert_exporter": "python",
   "pygments_lexer": "ipython2",
   "version": "2.7.6"
  },
  "kernelspec": {
   "name": "python3",
   "language": "python",
   "display_name": "Python 3"
  },
  "pycharm": {
   "stem_cell": {
    "cell_type": "raw",
    "source": [],
    "metadata": {
     "collapsed": false
    }
   }
  }
 },
 "nbformat": 4,
 "nbformat_minor": 0
}