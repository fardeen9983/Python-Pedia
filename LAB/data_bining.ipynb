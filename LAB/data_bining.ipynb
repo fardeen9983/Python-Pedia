{
 "cells": [
  {
   "cell_type": "markdown",
   "metadata": {
    "collapsed": true,
    "pycharm": {
     "name": "#%% md\n"
    }
   },
   "source": [
    "# Data Mining\n",
    "### Methods\n",
    "1. Binning\n",
    "2. Smooth by mean\n",
    "3. Smooth by boundary"
   ]
  },
  {
   "cell_type": "markdown",
   "source": [
    "### Take Input and perform Binning"
   ],
   "metadata": {
    "collapsed": false,
    "pycharm": {
     "name": "#%% md\n"
    }
   }
  },
  {
   "cell_type": "code",
   "execution_count": 77,
   "outputs": [
    {
     "data": {
      "text/plain": "array([list([5.0, 9.0, 12.0, 14.0]), list([14.0, 21.0, 28.0, 29.0]),\n       list([36.0])], dtype=object)"
     },
     "metadata": {},
     "output_type": "execute_result",
     "execution_count": 77
    }
   ],
   "source": [
    "# Sample \n",
    "data = [float(x) for x in input(\"Enter Data : \").split(',')]\n",
    "data.sort()\n",
    "# Enter group division\n",
    "n = int(input(\"Enter divisions :\"))\n",
    "data = [ data[i:i+n] for i in range(0,len(data),n)]\n",
    "\n",
    "# Import numpy\n",
    "import numpy as np\n",
    "data = np.array(data)\n",
    "data"
   ],
   "metadata": {
    "collapsed": false,
    "pycharm": {
     "name": "#%% \n",
     "is_executing": false
    }
   }
  },
  {
   "cell_type": "markdown",
   "source": [
    "### Replace empty spaces with zero"
   ],
   "metadata": {
    "collapsed": false,
    "pycharm": {
     "name": "#%% md\n",
     "is_executing": false
    }
   }
  },
  {
   "cell_type": "code",
   "execution_count": 91,
   "outputs": [
    {
     "data": {
      "text/plain": "array([list([5.0, 9.0, 12.0, 14.0]), list([14.0, 21.0, 28.0, 29.0]),\n       list([36.0, 0.0, 0.0, 0.0])], dtype=object)"
     },
     "metadata": {},
     "output_type": "execute_result",
     "execution_count": 91
    }
   ],
   "source": [
    "for i in data:\n",
    "    if len(i)!=n:\n",
    "        for j in range(len(i),n):\n",
    "            i.append(0.0)\n",
    "data"
   ],
   "metadata": {
    "collapsed": false,
    "pycharm": {
     "name": "#%%\n",
     "is_executing": false
    }
   }
  },
  {
   "cell_type": "markdown",
   "source": [
    "### Smooth by mean"
   ],
   "metadata": {
    "collapsed": false,
    "pycharm": {
     "name": "#%% md\n"
    }
   }
  },
  {
   "cell_type": "code",
   "execution_count": 97,
   "outputs": [
    {
     "data": {
      "text/plain": "array([array([10., 10., 10., 10.]), array([22., 22., 22., 22.]),\n       array([9., 9., 9., 9.])], dtype=object)"
     },
     "metadata": {},
     "output_type": "execute_result",
     "execution_count": 97
    }
   ],
   "source": [
    "smooth_mean =  np.empty_like(data)\n",
    "for i in range(0,len(data)):\n",
    "    mean = round(np.mean(data[i]))\n",
    "    smooth_mean[i] = np.full_like(data[i],fill_value=mean)\n",
    "smooth_mean"
   ],
   "metadata": {
    "collapsed": false,
    "pycharm": {
     "name": "#%%\n",
     "is_executing": false
    }
   }
  },
  {
   "cell_type": "markdown",
   "source": [
    "### Smooth by boundary"
   ],
   "metadata": {
    "collapsed": false,
    "pycharm": {
     "name": "#%% md\n"
    }
   }
  },
  {
   "cell_type": "code",
   "execution_count": 106,
   "outputs": [
    {
     "data": {
      "text/plain": "array([list([5.0, 5.0, 14.0, 14.0]), list([14.0, 14.0, 29.0, 29.0]),\n       list([36.0, 0.0, 0.0, 0.0])], dtype=object)"
     },
     "metadata": {},
     "output_type": "execute_result",
     "execution_count": 106
    }
   ],
   "source": [
    "smooth_boundary = np.copy(data)\n",
    "for i in smooth_boundary:\n",
    "    low,high = i[0],i[-1]\n",
    "    for x in range(1,len(i)-1):\n",
    "        i[x] = low if abs(low - i[x]) < abs(high - i[x]) else high\n",
    "smooth_boundary"
   ],
   "metadata": {
    "collapsed": false,
    "pycharm": {
     "name": "#%%\n",
     "is_executing": false
    }
   }
  }
 ],
 "metadata": {
  "language_info": {
   "codemirror_mode": {
    "name": "ipython",
    "version": 2
   },
   "file_extension": ".py",
   "mimetype": "text/x-python",
   "name": "python",
   "nbconvert_exporter": "python",
   "pygments_lexer": "ipython2",
   "version": "2.7.6"
  },
  "kernelspec": {
   "name": "python3",
   "language": "python",
   "display_name": "Python 3"
  },
  "pycharm": {
   "stem_cell": {
    "cell_type": "raw",
    "source": [],
    "metadata": {
     "collapsed": false
    }
   }
  }
 },
 "nbformat": 4,
 "nbformat_minor": 0
}