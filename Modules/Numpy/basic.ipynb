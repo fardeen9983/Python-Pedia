{
 "cells": [
  {
   "cell_type": "markdown",
   "metadata": {
    "collapsed": true,
    "pycharm": {
     "name": "#%% md\n"
    }
   },
   "source": [
    "# Numpy \n",
    "Numpy is used for statistical operations in python\n",
    "It is one of the most popular python libraries\n",
    "Deals with n dimensional vectors (arrays)\n",
    "\n",
    "Advantages:\n",
    "1. Extension to Python of multi dimensional arrays\n",
    "2. Hardware efficient\n",
    "3. Designed for scientific computation"
   ]
  },
  {
   "cell_type": "code",
   "execution_count": 4,
   "outputs": [
    {
     "data": {
      "text/plain": "array([0, 1, 2, 3, 4, 5])"
     },
     "metadata": {},
     "output_type": "execute_result",
     "execution_count": 4
    }
   ],
   "source": [
    "import numpy as np\n",
    "\n",
    "# Create a numpy array (vector)\n",
    "a = np.array([0, 1, 2, 3, 4, 5])\n",
    "a"
   ],
   "metadata": {
    "collapsed": false,
    "pycharm": {
     "name": "#%%\n",
     "is_executing": false
    }
   }
  },
  {
   "cell_type": "code",
   "execution_count": 5,
   "outputs": [
    {
     "data": {
      "text/plain": "dtype('int32')"
     },
     "metadata": {},
     "output_type": "execute_result",
     "execution_count": 5
    }
   ],
   "source": [
    "# Print the type of values the array holds\n",
    "a.dtype"
   ],
   "metadata": {
    "collapsed": false,
    "pycharm": {
     "name": "#%%\n",
     "is_executing": false
    }
   }
  },
  {
   "cell_type": "code",
   "execution_count": 6,
   "outputs": [
    {
     "data": {
      "text/plain": "array([0, 1, 2, 3, 4, 5, 6, 7, 8, 9])"
     },
     "metadata": {},
     "output_type": "execute_result",
     "execution_count": 6
    }
   ],
   "source": [
    "# Create a numpy array from 0..to n\n",
    "a = np.arange(10)\n",
    "a"
   ],
   "metadata": {
    "collapsed": false,
    "pycharm": {
     "name": "#%%\n",
     "is_executing": false
    }
   }
  },
  {
   "cell_type": "code",
   "execution_count": 7,
   "outputs": [
    {
     "name": "stdout",
     "text": [
      "Double array [0. 1. 2. 3. 4. 5. 6. 7. 8. 9.]\n"
     ],
     "output_type": "stream"
    }
   ],
   "source": [
    "# To create an arange array of specific data type\n",
    "a = np.arange(10, dtype=\"double\")\n",
    "print(\"Double array\", a)\n",
    "# 0. -> 0.0"
   ],
   "metadata": {
    "collapsed": false,
    "pycharm": {
     "name": "#%%\n",
     "is_executing": false
    }
   }
  },
  {
   "cell_type": "code",
   "execution_count": 8,
   "outputs": [
    {
     "data": {
      "text/plain": "array([1, 3, 5, 7, 9])"
     },
     "metadata": {},
     "output_type": "execute_result",
     "execution_count": 8
    }
   ],
   "source": [
    "# Create an array using arange with start (inclusive) and end (exclusive) value and step size\n",
    "a = np.arange(1, 10, 2)\n",
    "a"
   ],
   "metadata": {
    "collapsed": false,
    "pycharm": {
     "name": "#%%\n",
     "is_executing": false
    }
   }
  },
  {
   "cell_type": "code",
   "execution_count": 10,
   "outputs": [
    {
     "data": {
      "text/plain": "array([ 1,  9, 25, 49, 81], dtype=int32)"
     },
     "metadata": {},
     "output_type": "execute_result",
     "execution_count": 10
    }
   ],
   "source": [
    "# Create an array raised to some power\n",
    "a2 = a ** 2\n",
    "a2"
   ],
   "metadata": {
    "collapsed": false,
    "pycharm": {
     "name": "#%%\n",
     "is_executing": false
    }
   }
  },
  {
   "cell_type": "code",
   "execution_count": 13,
   "outputs": [
    {
     "data": {
      "text/plain": "1"
     },
     "metadata": {},
     "output_type": "execute_result",
     "execution_count": 13
    }
   ],
   "source": [
    "# Get the dimension of the np array\n",
    "a.ndim"
   ],
   "metadata": {
    "collapsed": false,
    "pycharm": {
     "name": "#%%\n",
     "is_executing": false
    }
   }
  },
  {
   "cell_type": "code",
   "execution_count": 15,
   "outputs": [
    {
     "name": "stdout",
     "text": [
      "[[1 2 3 4]\n [3 4 5 6]]\n"
     ],
     "output_type": "stream"
    }
   ],
   "source": [
    "# 2-D array (Matrix)\n",
    "b = np.array([[1, 2, 3, 4], [3, 4, 5, 6]])\n",
    "print(b)"
   ],
   "metadata": {
    "collapsed": false,
    "pycharm": {
     "name": "#%%\n",
     "is_executing": false
    }
   }
  },
  {
   "cell_type": "code",
   "execution_count": 16,
   "outputs": [
    {
     "name": "stdout",
     "text": [
      "(2, 4)\n(20,)\n"
     ],
     "output_type": "stream"
    }
   ],
   "source": [
    "# Fetch the shape of np array\n",
    "print(b.shape)  # (a,b) a rows and b columns\n",
    "print(a.shape)  # (a,) a elements"
   ],
   "metadata": {
    "collapsed": false,
    "pycharm": {
     "name": "#%%\n",
     "is_executing": false
    }
   }
  },
  {
   "cell_type": "code",
   "execution_count": 21,
   "outputs": [
    {
     "name": "stdout",
     "text": [
      "Array : \n [[[1 2]\n  [2 3]]\n\n [[3 4]\n  [4 5]]\n\n [[5 6]\n  [6 7]]] \n\n Number of dimension 3 \n Shape (3, 2, 2)\n"
     ],
     "output_type": "stream"
    }
   ],
   "source": [
    "# 3-D arrays (Tensor)\n",
    "c = np.array([[[1, 2], [2, 3]], [[3, 4], [4, 5]], [[5, 6], [6, 7]]])\n",
    "print(\"Array : \\n\",c, \"\\n\\n\",\"Number of dimension\", c.ndim,\n",
    "      \"\\n Shape\", c.shape)"
   ],
   "metadata": {
    "collapsed": false,
    "pycharm": {
     "name": "#%%\n",
     "is_executing": false
    }
   }
  },
  {
   "cell_type": "markdown",
   "source": [
    "### Link Space\n",
    "Create vector using link space\n",
    " \n",
    "method : linspace\n",
    "\n",
    "arg0 : start value\n",
    "\n",
    "arg1 : end value\n",
    "\n",
    "Both inclusive\n",
    "\n",
    "arg3 : Total number of values"
   ],
   "metadata": {
    "collapsed": false,
    "pycharm": {
     "name": "#%% md\n"
    }
   }
  },
  {
   "cell_type": "code",
   "execution_count": 22,
   "outputs": [
    {
     "name": "stdout",
     "text": [
      "[ 1.     1.375  1.75   2.125  2.5    2.875  3.25   3.625  4.     4.375\n  4.75   5.125  5.5    5.875  6.25   6.625  7.     7.375  7.75   8.125\n  8.5    8.875  9.25   9.625 10.   ]\n"
     ],
     "output_type": "stream"
    }
   ],
   "source": [
    "a = np.linspace(1, 10, 25)\n",
    "print(a)"
   ],
   "metadata": {
    "collapsed": false,
    "pycharm": {
     "name": "#%%\n",
     "is_executing": false
    }
   }
  },
  {
   "cell_type": "code",
   "execution_count": 23,
   "outputs": [
    {
     "name": "stdout",
     "text": [
      "[[1. 1. 1.]\n [1. 1. 1.]\n [1. 1. 1.]]\n"
     ],
     "output_type": "stream"
    }
   ],
   "source": [
    "# Create an one matrix/ multi dimensional array\n",
    "a = np.ones((3, 3))  # 3x3 one matrix\n",
    "print(a)"
   ],
   "metadata": {
    "collapsed": false,
    "pycharm": {
     "name": "#%%\n",
     "is_executing": false
    }
   }
  },
  {
   "cell_type": "code",
   "execution_count": 24,
   "outputs": [
    {
     "name": "stdout",
     "text": [
      "[[[1. 1. 1. 1.]\n  [1. 1. 1. 1.]\n  [1. 1. 1. 1.]]\n\n [[1. 1. 1. 1.]\n  [1. 1. 1. 1.]\n  [1. 1. 1. 1.]]]\n"
     ],
     "output_type": "stream"
    }
   ],
   "source": [
    "a = np.ones((2, 3, 4))  # 2x3x4 one matrix\n",
    "print(a)"
   ],
   "metadata": {
    "collapsed": false,
    "pycharm": {
     "name": "#%%\n",
     "is_executing": false
    }
   }
  },
  {
   "cell_type": "code",
   "execution_count": 26,
   "outputs": [
    {
     "name": "stdout",
     "text": [
      "[[0. 0. 0.]\n [0. 0. 0.]\n [0. 0. 0.]]\n"
     ],
     "output_type": "stream"
    }
   ],
   "source": [
    "# Create a 0 value matrix. Always create decimal point values\n",
    "a = np.zeros((3, 3))  # 3x3 zero matrix\n",
    "print(a)"
   ],
   "metadata": {
    "collapsed": false,
    "pycharm": {
     "name": "#%%\n",
     "is_executing": false
    }
   }
  },
  {
   "cell_type": "code",
   "execution_count": 27,
   "outputs": [
    {
     "name": "stdout",
     "text": [
      "[[[0. 0. 0. 0.]\n  [0. 0. 0. 0.]\n  [0. 0. 0. 0.]]\n\n [[0. 0. 0. 0.]\n  [0. 0. 0. 0.]\n  [0. 0. 0. 0.]]]\n"
     ],
     "output_type": "stream"
    }
   ],
   "source": [
    "a = np.zeros((2, 3, 4))  # 2x3x4 zero matrix\n",
    "print(a)"
   ],
   "metadata": {
    "collapsed": false,
    "pycharm": {
     "name": "#%%\n",
     "is_executing": false
    }
   }
  },
  {
   "cell_type": "code",
   "execution_count": 28,
   "outputs": [
    {
     "name": "stdout",
     "text": [
      "[[1. 0. 0.]\n [0. 1. 0.]\n [0. 0. 1.]]\n"
     ],
     "output_type": "stream"
    }
   ],
   "source": [
    "# Create an identity matrix\n",
    "a = np.eye(3)  # 3x3 zero matrix\n",
    "print(a)"
   ],
   "metadata": {
    "collapsed": false,
    "pycharm": {
     "name": "#%%\n",
     "is_executing": false
    }
   }
  },
  {
   "cell_type": "code",
   "execution_count": 29,
   "outputs": [
    {
     "name": "stdout",
     "text": [
      "[[1 0 0 0]\n [0 2 0 0]\n [0 0 3 0]\n [0 0 0 4]]\n"
     ],
     "output_type": "stream"
    }
   ],
   "source": [
    "# Create diagonal arrays\n",
    "a = np.diag([1, 2, 3, 4])\n",
    "print(a)"
   ],
   "metadata": {
    "collapsed": false,
    "pycharm": {
     "name": "#%%\n",
     "is_executing": false
    }
   }
  },
  {
   "cell_type": "code",
   "execution_count": null,
   "outputs": [],
   "source": [
    "# Fetch diagonal values from a diagonal array in the form of a vector\n",
    "print(np.diag(a))  # a is a diagonal matrix"
   ],
   "metadata": {
    "collapsed": false,
    "pycharm": {
     "name": "#%%\n"
    }
   }
  },
  {
   "cell_type": "code",
   "execution_count": 31,
   "outputs": [
    {
     "name": "stdout",
     "text": [
      "Random vector :  [0.18006999 0.65431195 0.08612773 0.11536983 0.691534  ]\n"
     ],
     "output_type": "stream"
    }
   ],
   "source": [
    "# Create a random array of given shape\n",
    "# THis will generate a vector of 4 uniformly     distributed random no\n",
    "print(\"Random vector : \", np.random.rand(5))"
   ],
   "metadata": {
    "collapsed": false,
    "pycharm": {
     "name": "#%%\n",
     "is_executing": false
    }
   }
  },
  {
   "cell_type": "code",
   "execution_count": 32,
   "outputs": [
    {
     "name": "stdout",
     "text": [
      "Random Integer vector :  [4 3 5 4 9]\n"
     ],
     "output_type": "stream"
    }
   ],
   "source": [
    "print(\"Random Integer vector : \", np.random.randint(0, 10, 5))"
   ],
   "metadata": {
    "collapsed": false,
    "pycharm": {
     "name": "#%%\n",
     "is_executing": false
    }
   }
  },
  {
   "cell_type": "code",
   "execution_count": 33,
   "outputs": [
    {
     "name": "stdout",
     "text": [
      "Random matrix :  [[0.27888023 0.78795832 0.24192125]\n [0.18437966 0.37479757 0.01892918]]\n"
     ],
     "output_type": "stream"
    }
   ],
   "source": [
    "print(\"Random matrix : \", np.random.rand(2, 3))"
   ],
   "metadata": {
    "collapsed": false,
    "pycharm": {
     "name": "#%%\n",
     "is_executing": false
    }
   }
  },
  {
   "cell_type": "code",
   "execution_count": 34,
   "outputs": [
    {
     "name": "stdout",
     "text": [
      "Random vector :  [ 0.37523163 -2.79154235 -1.72830116  0.19181684 -0.52337923]\n"
     ],
     "output_type": "stream"
    }
   ],
   "source": [
    "# Standard normal variant / caution distributed random no\n",
    "print(\"Random vector : \", np.random.randn(5))"
   ],
   "metadata": {
    "collapsed": false,
    "pycharm": {
     "name": "#%%\n",
     "is_executing": false
    }
   }
  },
  {
   "cell_type": "code",
   "execution_count": 35,
   "outputs": [
    {
     "name": "stdout",
     "text": [
      "Complex array :  [2.+1.j  9.+4.5j] complex128\n"
     ],
     "output_type": "stream"
    }
   ],
   "source": [
    "# Create array of complex numbers (complex128)\n",
    "c = np.array([2 + 1j, 9.0 + 4.5j])\n",
    "print(\"Complex array : \", c, c.dtype)"
   ],
   "metadata": {
    "collapsed": false,
    "pycharm": {
     "name": "#%%\n",
     "is_executing": false
    }
   }
  },
  {
   "cell_type": "code",
   "execution_count": 36,
   "outputs": [
    {
     "name": "stdout",
     "text": [
      "Boolean array :  [ True False False False  True] bool\n"
     ],
     "output_type": "stream"
    }
   ],
   "source": [
    "# Boolean array (bool)\n",
    "b = np.array([True, False, False, False, True])\n",
    "print(\"Boolean array : \", b, b.dtype)"
   ],
   "metadata": {
    "collapsed": false,
    "pycharm": {
     "name": "#%%\n",
     "is_executing": false
    }
   }
  },
  {
   "cell_type": "code",
   "execution_count": 37,
   "outputs": [
    {
     "name": "stdout",
     "text": [
      "String array :  ['Hey' 'how' 'are' 'you'] <U3\n"
     ],
     "output_type": "stream"
    }
   ],
   "source": [
    "# String array\n",
    "s = np.array([\"Hey\", \"how\", \"are\", \"you\"])\n",
    "print(\"String array : \", s, s.dtype)"
   ],
   "metadata": {
    "collapsed": false,
    "pycharm": {
     "name": "#%%\n",
     "is_executing": false
    }
   }
  },
  {
   "cell_type": "markdown",
   "source": [
    "### Indexing in numpy arrays\n",
    "We can manipulate and access numpy array elements through indexes the same way we do with normal arrays\n",
    "\n",
    "Also the indexes start from 0 to length-1"
   ],
   "metadata": {
    "collapsed": false,
    "pycharm": {
     "name": "#%% md\n"
    }
   }
  },
  {
   "cell_type": "code",
   "execution_count": 38,
   "outputs": [
    {
     "name": "stdout",
     "text": [
      "5th element :  0.9294379098025841\n"
     ],
     "output_type": "stream"
    }
   ],
   "source": [
    "# A random array\n",
    "a = np.random.rand(5)\n",
    "print(\"5th element : \", a[4])"
   ],
   "metadata": {
    "collapsed": false,
    "pycharm": {
     "name": "#%%\n",
     "is_executing": false
    }
   }
  },
  {
   "cell_type": "code",
   "execution_count": 39,
   "outputs": [
    {
     "name": "stdout",
     "text": [
      "Element at 3nd row and 3rd column :  3\n"
     ],
     "output_type": "stream"
    }
   ],
   "source": [
    "# A 2D array\n",
    "a = np.diag([1, 2, 3, 4])\n",
    "print(\"Element at 3nd row and 3rd column : \", a[2, 2])"
   ],
   "metadata": {
    "collapsed": false,
    "pycharm": {
     "name": "#%%\n",
     "is_executing": false
    }
   }
  },
  {
   "cell_type": "code",
   "execution_count": 40,
   "outputs": [
    {
     "name": "stdout",
     "text": [
      "Element at 3nd row and 3rd column :  4\n"
     ],
     "output_type": "stream"
    }
   ],
   "source": [
    "# Assigning values by index\n",
    "a[2, 2] = 4\n",
    "print(\"Element at 3nd row and 3rd column : \", a[2, 2])"
   ],
   "metadata": {
    "collapsed": false,
    "pycharm": {
     "name": "#%%\n",
     "is_executing": false
    }
   }
  },
  {
   "cell_type": "code",
   "execution_count": 44,
   "outputs": [
    {
     "name": "stdout",
     "text": [
      "Custom indexed a : [ 0  3  6  9 12 15 18 21 24]\n"
     ],
     "output_type": "stream"
    }
   ],
   "source": [
    "# Fetch values at given index\n",
    "a = np.arange(0, 25)\n",
    "\n",
    "# Fetch only even indexed values\n",
    "index = [i for i in range(0, a.__len__(), 3)]\n",
    "print(\"Custom indexed a :\", a[index])"
   ],
   "metadata": {
    "collapsed": false,
    "pycharm": {
     "name": "#%%\n",
     "is_executing": false
    }
   }
  },
  {
   "cell_type": "code",
   "execution_count": 45,
   "outputs": [
    {
     "name": "stdout",
     "text": [
      "Changed indexed a : [-2  1  2 -2  4  5 -2  7  8 -2 10 11 -2 13 14 -2 16 17 -2 19 20 -2 22 23\n -2]\n"
     ],
     "output_type": "stream"
    }
   ],
   "source": [
    "# Assign values to given index\n",
    "a[index] = -2\n",
    "print(\"Changed indexed a :\", a)"
   ],
   "metadata": {
    "collapsed": false,
    "pycharm": {
     "name": "#%%\n",
     "is_executing": false
    }
   }
  },
  {
   "cell_type": "markdown",
   "source": [
    "### Slicing \n",
    "It is similar to how we did it in normal arrays"
   ],
   "metadata": {
    "collapsed": false,
    "pycharm": {
     "name": "#%% md\n"
    }
   }
  },
  {
   "cell_type": "code",
   "execution_count": 46,
   "outputs": [
    {
     "name": "stdout",
     "text": [
      "a[1:8:2] :  [1 3 5 7]\n"
     ],
     "output_type": "stream"
    }
   ],
   "source": [
    "# Sample array\n",
    "a = np.arange(10)\n",
    "\n",
    "# slice using indices ( start and end index (exclusive) and step size)\n",
    "print(\"a[1:8:2] : \", a[1:8:2])"
   ],
   "metadata": {
    "collapsed": false,
    "pycharm": {
     "name": "#%%\n",
     "is_executing": false
    }
   }
  },
  {
   "cell_type": "code",
   "execution_count": 47,
   "outputs": [
    {
     "name": "stdout",
     "text": [
      "a : [ 0  1  2  3  4 10 10 10 10 10]\n"
     ],
     "output_type": "stream"
    }
   ],
   "source": [
    "# Slicing and assignment: Assign values to all the elements from index 5\n",
    "a[5:] = 10\n",
    "print(\"a :\", a)"
   ],
   "metadata": {
    "collapsed": false,
    "pycharm": {
     "name": "#%%\n",
     "is_executing": false
    }
   }
  },
  {
   "cell_type": "code",
   "execution_count": 48,
   "outputs": [
    {
     "name": "stdout",
     "text": [
      "Mix a : [0 1 2 3 4 4 3 2 1 0]\n"
     ],
     "output_type": "stream"
    }
   ],
   "source": [
    "# Assign reverse of an array to another\n",
    "b = np.arange(5)\n",
    "a[5:] = b[::-1]\n",
    "print(\"Mix a :\", a)"
   ],
   "metadata": {
    "collapsed": false,
    "pycharm": {
     "name": "#%%\n",
     "is_executing": false
    }
   }
  },
  {
   "cell_type": "code",
   "execution_count": 49,
   "outputs": [
    {
     "name": "stdout",
     "text": [
      "Mask output: [ 0  2  4  6  8 10 12 14 16 18]\n"
     ],
     "output_type": "stream"
    }
   ],
   "source": [
    "# Masking : Filter through the array elements using a masking operation\n",
    "a = np.arange(20)\n",
    "# Create a  mask (operation on array)\n",
    "# It is an bool array representing truth values for each element over the given operation\n",
    "mask = ((a ** 2) % 4 == 0)\n",
    "mask_output = a[mask]\n",
    "print(\"Mask output:\", mask_output)"
   ],
   "metadata": {
    "collapsed": false,
    "pycharm": {
     "name": "#%%\n",
     "is_executing": false
    }
   }
  },
  {
   "cell_type": "code",
   "execution_count": 50,
   "outputs": [
    {
     "name": "stdout",
     "text": [
      "Final mask :  [-1  1 -1  3 -1  5 -1  7 -1  9 -1 11 -1 13 -1 15 -1 17 -1 19]\n"
     ],
     "output_type": "stream"
    }
   ],
   "source": [
    "# Make changes to the masked values\n",
    "# That is, make changes to values that satisfy the mask operation as a whole\n",
    "a[mask] = -1\n",
    "print(\"Final mask : \", a)"
   ],
   "metadata": {
    "collapsed": false,
    "pycharm": {
     "name": "#%%\n",
     "is_executing": false
    }
   }
  }
 ],
 "metadata": {
  "language_info": {
   "codemirror_mode": {
    "name": "ipython",
    "version": 2
   },
   "file_extension": ".py",
   "mimetype": "text/x-python",
   "name": "python",
   "nbconvert_exporter": "python",
   "pygments_lexer": "ipython2",
   "version": "2.7.6"
  },
  "kernelspec": {
   "name": "python3",
   "language": "python",
   "display_name": "Python 3"
  },
  "pycharm": {
   "stem_cell": {
    "cell_type": "raw",
    "source": [],
    "metadata": {
     "collapsed": false
    }
   }
  }
 },
 "nbformat": 4,
 "nbformat_minor": 0
}