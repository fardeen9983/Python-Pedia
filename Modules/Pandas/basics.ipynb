{
 "cells": [
  {
   "cell_type": "markdown",
   "metadata": {
    "pycharm": {
     "metadata": false
    }
   },
   "source": [
    "## Pandas : Getting started\n",
    "pandas is a very popular data processing library and makes working with datasets very easy "
   ]
  },
  {
   "cell_type": "code",
   "execution_count": 5,
   "metadata": {
    "pycharm": {
     "is_executing": false,
     "metadata": false,
     "name": "#%%\n"
    }
   },
   "outputs": [],
   "source": [
    "import pandas as pd"
   ]
  },
  {
   "cell_type": "markdown",
   "metadata": {
    "pycharm": {
     "metadata": false
    }
   },
   "source": [
    "### Read csv file data"
   ]
  },
  {
   "cell_type": "code",
   "execution_count": 6,
   "metadata": {
    "pycharm": {
     "is_executing": false,
     "metadata": false,
     "name": "#%%\n"
    }
   },
   "outputs": [
    {
     "data": {
      "text/plain": "         date  maximum temperature  minimum temperature  average temperature  \\\n0   1-1-2016                    42                   34                 38.0   \n1   2-1-2016                    40                   32                 36.0   \n2   3-1-2016                    45                   35                 40.0   \n3   4-1-2016                    36                   14                 25.0   \n4   5-1-2016                    29                   11                 20.0   \n5   6-1-2016                    41                   25                 33.0   \n6   7-1-2016                    46                   31                 38.5   \n7   8-1-2016                    46                   31                 38.5   \n8   9-1-2016                    47                   40                 43.5   \n9   10-1-2016                   59                   40                 49.5   \n10  11-1-2016                   40                   26                 33.0   \n11  12-1-2016                   44                   25                 34.5   \n12  13-1-2016                   30                   22                 26.0   \n13  14-1-2016                   38                   22                 30.0   \n14  15-1-2016                   51                   34                 42.5   \n15  16-1-2016                   52                   42                 47.0   \n16  17-1-2016                   42                   30                 36.0   \n17  18-1-2016                   31                   18                 24.5   \n18  19-1-2016                   28                   16                 22.0   \n\n    precipitation  snow fall  snow depth  \n0            0.00        0.0         0.0  \n1            0.00        0.0         0.0  \n2            0.00        0.0         0.0  \n3            0.00        0.0         0.0  \n4            0.00        0.0         0.0  \n5            0.00        0.0         0.0  \n6            0.00        0.0         0.0  \n7            0.00        0.0         0.0  \n8            0.00        0.0         0.0  \n9            1.80        0.0         0.0  \n10           0.00        0.0         0.0  \n11           0.00        0.0         0.0  \n12           0.00        0.0         0.0  \n13           0.00        0.0         0.0  \n14           0.00        0.0         0.0  \n15           0.24        0.0         0.0  \n16           0.05        0.4         0.0  \n17           0.00        0.0         0.0  \n18           0.00        0.0         0.0  ",
      "text/html": "<div>\n<style scoped>\n    .dataframe tbody tr th:only-of-type {\n        vertical-align: middle;\n    }\n\n    .dataframe tbody tr th {\n        vertical-align: top;\n    }\n\n    .dataframe thead th {\n        text-align: right;\n    }\n</style>\n<table border=\"1\" class=\"dataframe\">\n  <thead>\n    <tr style=\"text-align: right;\">\n      <th></th>\n      <th>date</th>\n      <th>maximum temperature</th>\n      <th>minimum temperature</th>\n      <th>average temperature</th>\n      <th>precipitation</th>\n      <th>snow fall</th>\n      <th>snow depth</th>\n    </tr>\n  </thead>\n  <tbody>\n    <tr>\n      <th>0</th>\n      <td>1-1-2016</td>\n      <td>42</td>\n      <td>34</td>\n      <td>38.0</td>\n      <td>0.00</td>\n      <td>0.0</td>\n      <td>0.0</td>\n    </tr>\n    <tr>\n      <th>1</th>\n      <td>2-1-2016</td>\n      <td>40</td>\n      <td>32</td>\n      <td>36.0</td>\n      <td>0.00</td>\n      <td>0.0</td>\n      <td>0.0</td>\n    </tr>\n    <tr>\n      <th>2</th>\n      <td>3-1-2016</td>\n      <td>45</td>\n      <td>35</td>\n      <td>40.0</td>\n      <td>0.00</td>\n      <td>0.0</td>\n      <td>0.0</td>\n    </tr>\n    <tr>\n      <th>3</th>\n      <td>4-1-2016</td>\n      <td>36</td>\n      <td>14</td>\n      <td>25.0</td>\n      <td>0.00</td>\n      <td>0.0</td>\n      <td>0.0</td>\n    </tr>\n    <tr>\n      <th>4</th>\n      <td>5-1-2016</td>\n      <td>29</td>\n      <td>11</td>\n      <td>20.0</td>\n      <td>0.00</td>\n      <td>0.0</td>\n      <td>0.0</td>\n    </tr>\n    <tr>\n      <th>5</th>\n      <td>6-1-2016</td>\n      <td>41</td>\n      <td>25</td>\n      <td>33.0</td>\n      <td>0.00</td>\n      <td>0.0</td>\n      <td>0.0</td>\n    </tr>\n    <tr>\n      <th>6</th>\n      <td>7-1-2016</td>\n      <td>46</td>\n      <td>31</td>\n      <td>38.5</td>\n      <td>0.00</td>\n      <td>0.0</td>\n      <td>0.0</td>\n    </tr>\n    <tr>\n      <th>7</th>\n      <td>8-1-2016</td>\n      <td>46</td>\n      <td>31</td>\n      <td>38.5</td>\n      <td>0.00</td>\n      <td>0.0</td>\n      <td>0.0</td>\n    </tr>\n    <tr>\n      <th>8</th>\n      <td>9-1-2016</td>\n      <td>47</td>\n      <td>40</td>\n      <td>43.5</td>\n      <td>0.00</td>\n      <td>0.0</td>\n      <td>0.0</td>\n    </tr>\n    <tr>\n      <th>9</th>\n      <td>10-1-2016</td>\n      <td>59</td>\n      <td>40</td>\n      <td>49.5</td>\n      <td>1.80</td>\n      <td>0.0</td>\n      <td>0.0</td>\n    </tr>\n    <tr>\n      <th>10</th>\n      <td>11-1-2016</td>\n      <td>40</td>\n      <td>26</td>\n      <td>33.0</td>\n      <td>0.00</td>\n      <td>0.0</td>\n      <td>0.0</td>\n    </tr>\n    <tr>\n      <th>11</th>\n      <td>12-1-2016</td>\n      <td>44</td>\n      <td>25</td>\n      <td>34.5</td>\n      <td>0.00</td>\n      <td>0.0</td>\n      <td>0.0</td>\n    </tr>\n    <tr>\n      <th>12</th>\n      <td>13-1-2016</td>\n      <td>30</td>\n      <td>22</td>\n      <td>26.0</td>\n      <td>0.00</td>\n      <td>0.0</td>\n      <td>0.0</td>\n    </tr>\n    <tr>\n      <th>13</th>\n      <td>14-1-2016</td>\n      <td>38</td>\n      <td>22</td>\n      <td>30.0</td>\n      <td>0.00</td>\n      <td>0.0</td>\n      <td>0.0</td>\n    </tr>\n    <tr>\n      <th>14</th>\n      <td>15-1-2016</td>\n      <td>51</td>\n      <td>34</td>\n      <td>42.5</td>\n      <td>0.00</td>\n      <td>0.0</td>\n      <td>0.0</td>\n    </tr>\n    <tr>\n      <th>15</th>\n      <td>16-1-2016</td>\n      <td>52</td>\n      <td>42</td>\n      <td>47.0</td>\n      <td>0.24</td>\n      <td>0.0</td>\n      <td>0.0</td>\n    </tr>\n    <tr>\n      <th>16</th>\n      <td>17-1-2016</td>\n      <td>42</td>\n      <td>30</td>\n      <td>36.0</td>\n      <td>0.05</td>\n      <td>0.4</td>\n      <td>0.0</td>\n    </tr>\n    <tr>\n      <th>17</th>\n      <td>18-1-2016</td>\n      <td>31</td>\n      <td>18</td>\n      <td>24.5</td>\n      <td>0.00</td>\n      <td>0.0</td>\n      <td>0.0</td>\n    </tr>\n    <tr>\n      <th>18</th>\n      <td>19-1-2016</td>\n      <td>28</td>\n      <td>16</td>\n      <td>22.0</td>\n      <td>0.00</td>\n      <td>0.0</td>\n      <td>0.0</td>\n    </tr>\n  </tbody>\n</table>\n</div>"
     },
     "metadata": {},
     "output_type": "execute_result",
     "execution_count": 6
    }
   ],
   "source": [
    "data = pd.read_csv(\"weather.csv\")\n",
    "# Print the data. Here data is a dataframe, a data structure defined in pandas\n",
    "data"
   ]
  },
  {
   "cell_type": "code",
   "execution_count": 7,
   "outputs": [
    {
     "data": {
      "text/plain": "0     42\n1     40\n2     45\n3     36\n4     29\n5     41\n6     46\n7     46\n8     47\n9     59\n10    40\n11    44\n12    30\n13    38\n14    51\n15    52\n16    42\n17    31\n18    28\nName: maximum temperature, dtype: int64"
     },
     "metadata": {},
     "output_type": "execute_result",
     "execution_count": 7
    }
   ],
   "source": [
    "# Fetch columns by name and perform operations\n",
    "data[\"maximum temperature\"]"
   ],
   "metadata": {
    "pycharm": {
     "metadata": false,
     "name": "#%%\n",
     "is_executing": false
    }
   }
  },
  {
   "cell_type": "code",
   "execution_count": 19,
   "outputs": [
    {
     "name": "stdout",
     "text": [
      "Maximum temp : 59\nMean of avg temp : 34.60526315789474\n"
     ],
     "output_type": "stream"
    },
    {
     "data": {
      "text/plain": "0     1-1-2016 \n1     2-1-2016 \n2     3-1-2016 \n6     7-1-2016 \n7     8-1-2016 \n8     9-1-2016 \n9     10-1-2016\n14    15-1-2016\n15    16-1-2016\n16    17-1-2016\nName: date, dtype: object"
     },
     "metadata": {},
     "output_type": "execute_result",
     "execution_count": 19
    }
   ],
   "source": [
    "# Maximum among these values\n",
    "print(\"Maximum temp :\",data[\"maximum temperature\"].max())\n",
    "# Mean values\n",
    "print(\"Mean of avg temp :\",data[\"average temperature\"].mean())\n",
    "# Fetch dates where avg temp > 35\n",
    "data[\"date\"][data[\"average temperature\"] > 35.0]"
   ],
   "metadata": {
    "pycharm": {
     "metadata": false,
     "name": "#%%\n",
     "is_executing": false
    }
   }
  },
  {
   "cell_type": "markdown",
   "source": [
    "### Iterate over the DataFrame"
   ],
   "metadata": {
    "collapsed": false,
    "pycharm": {
     "name": "#%% md\n"
    }
   }
  },
  {
   "cell_type": "code",
   "execution_count": 8,
   "outputs": [
    {
     "name": "stdout",
     "text": [
      "0    1-1-2016     42\n1    2-1-2016     40\n2    3-1-2016     45\n3    4-1-2016     36\n4    5-1-2016     29\n5    6-1-2016     41\n6    7-1-2016     46\n7    8-1-2016     46\n8    9-1-2016     47\n9    10-1-2016    59\n10    11-1-2016    40\n11    12-1-2016    44\n12    13-1-2016    30\n13    14-1-2016    38\n14    15-1-2016    51\n15    16-1-2016    52\n16    17-1-2016    42\n17    18-1-2016    31\n18    19-1-2016    28\n"
     ],
     "output_type": "stream"
    }
   ],
   "source": [
    "for label, row in data.iterrows():\n",
    "    print(label,\"  \",row[\"date\"],\"  \",row['maximum temperature'])"
   ],
   "metadata": {
    "collapsed": false,
    "pycharm": {
     "name": "#%%\n",
     "is_executing": false
    }
   }
  },
  {
   "cell_type": "markdown",
   "source": [
    "### Add a new column"
   ],
   "metadata": {
    "collapsed": false,
    "pycharm": {
     "name": "#%% md\n"
    }
   }
  },
  {
   "cell_type": "code",
   "execution_count": 9,
   "outputs": [
    {
     "data": {
      "text/plain": "         date  maximum temperature  minimum temperature  average temperature  \\\n0   1-1-2016                    42                   34                 38.0   \n1   2-1-2016                    40                   32                 36.0   \n2   3-1-2016                    45                   35                 40.0   \n3   4-1-2016                    36                   14                 25.0   \n4   5-1-2016                    29                   11                 20.0   \n5   6-1-2016                    41                   25                 33.0   \n6   7-1-2016                    46                   31                 38.5   \n7   8-1-2016                    46                   31                 38.5   \n8   9-1-2016                    47                   40                 43.5   \n9   10-1-2016                   59                   40                 49.5   \n10  11-1-2016                   40                   26                 33.0   \n11  12-1-2016                   44                   25                 34.5   \n12  13-1-2016                   30                   22                 26.0   \n13  14-1-2016                   38                   22                 30.0   \n14  15-1-2016                   51                   34                 42.5   \n15  16-1-2016                   52                   42                 47.0   \n16  17-1-2016                   42                   30                 36.0   \n17  18-1-2016                   31                   18                 24.5   \n18  19-1-2016                   28                   16                 22.0   \n\n    precipitation  snow fall  snow depth  avg_float  \n0            0.00        0.0         0.0       38.0  \n1            0.00        0.0         0.0       36.0  \n2            0.00        0.0         0.0       40.0  \n3            0.00        0.0         0.0       25.0  \n4            0.00        0.0         0.0       20.0  \n5            0.00        0.0         0.0       33.0  \n6            0.00        0.0         0.0       38.5  \n7            0.00        0.0         0.0       38.5  \n8            0.00        0.0         0.0       43.5  \n9            1.80        0.0         0.0       49.5  \n10           0.00        0.0         0.0       33.0  \n11           0.00        0.0         0.0       34.5  \n12           0.00        0.0         0.0       26.0  \n13           0.00        0.0         0.0       30.0  \n14           0.00        0.0         0.0       42.5  \n15           0.24        0.0         0.0       47.0  \n16           0.05        0.4         0.0       36.0  \n17           0.00        0.0         0.0       24.5  \n18           0.00        0.0         0.0       22.0  ",
      "text/html": "<div>\n<style scoped>\n    .dataframe tbody tr th:only-of-type {\n        vertical-align: middle;\n    }\n\n    .dataframe tbody tr th {\n        vertical-align: top;\n    }\n\n    .dataframe thead th {\n        text-align: right;\n    }\n</style>\n<table border=\"1\" class=\"dataframe\">\n  <thead>\n    <tr style=\"text-align: right;\">\n      <th></th>\n      <th>date</th>\n      <th>maximum temperature</th>\n      <th>minimum temperature</th>\n      <th>average temperature</th>\n      <th>precipitation</th>\n      <th>snow fall</th>\n      <th>snow depth</th>\n      <th>avg_float</th>\n    </tr>\n  </thead>\n  <tbody>\n    <tr>\n      <th>0</th>\n      <td>1-1-2016</td>\n      <td>42</td>\n      <td>34</td>\n      <td>38.0</td>\n      <td>0.00</td>\n      <td>0.0</td>\n      <td>0.0</td>\n      <td>38.0</td>\n    </tr>\n    <tr>\n      <th>1</th>\n      <td>2-1-2016</td>\n      <td>40</td>\n      <td>32</td>\n      <td>36.0</td>\n      <td>0.00</td>\n      <td>0.0</td>\n      <td>0.0</td>\n      <td>36.0</td>\n    </tr>\n    <tr>\n      <th>2</th>\n      <td>3-1-2016</td>\n      <td>45</td>\n      <td>35</td>\n      <td>40.0</td>\n      <td>0.00</td>\n      <td>0.0</td>\n      <td>0.0</td>\n      <td>40.0</td>\n    </tr>\n    <tr>\n      <th>3</th>\n      <td>4-1-2016</td>\n      <td>36</td>\n      <td>14</td>\n      <td>25.0</td>\n      <td>0.00</td>\n      <td>0.0</td>\n      <td>0.0</td>\n      <td>25.0</td>\n    </tr>\n    <tr>\n      <th>4</th>\n      <td>5-1-2016</td>\n      <td>29</td>\n      <td>11</td>\n      <td>20.0</td>\n      <td>0.00</td>\n      <td>0.0</td>\n      <td>0.0</td>\n      <td>20.0</td>\n    </tr>\n    <tr>\n      <th>5</th>\n      <td>6-1-2016</td>\n      <td>41</td>\n      <td>25</td>\n      <td>33.0</td>\n      <td>0.00</td>\n      <td>0.0</td>\n      <td>0.0</td>\n      <td>33.0</td>\n    </tr>\n    <tr>\n      <th>6</th>\n      <td>7-1-2016</td>\n      <td>46</td>\n      <td>31</td>\n      <td>38.5</td>\n      <td>0.00</td>\n      <td>0.0</td>\n      <td>0.0</td>\n      <td>38.5</td>\n    </tr>\n    <tr>\n      <th>7</th>\n      <td>8-1-2016</td>\n      <td>46</td>\n      <td>31</td>\n      <td>38.5</td>\n      <td>0.00</td>\n      <td>0.0</td>\n      <td>0.0</td>\n      <td>38.5</td>\n    </tr>\n    <tr>\n      <th>8</th>\n      <td>9-1-2016</td>\n      <td>47</td>\n      <td>40</td>\n      <td>43.5</td>\n      <td>0.00</td>\n      <td>0.0</td>\n      <td>0.0</td>\n      <td>43.5</td>\n    </tr>\n    <tr>\n      <th>9</th>\n      <td>10-1-2016</td>\n      <td>59</td>\n      <td>40</td>\n      <td>49.5</td>\n      <td>1.80</td>\n      <td>0.0</td>\n      <td>0.0</td>\n      <td>49.5</td>\n    </tr>\n    <tr>\n      <th>10</th>\n      <td>11-1-2016</td>\n      <td>40</td>\n      <td>26</td>\n      <td>33.0</td>\n      <td>0.00</td>\n      <td>0.0</td>\n      <td>0.0</td>\n      <td>33.0</td>\n    </tr>\n    <tr>\n      <th>11</th>\n      <td>12-1-2016</td>\n      <td>44</td>\n      <td>25</td>\n      <td>34.5</td>\n      <td>0.00</td>\n      <td>0.0</td>\n      <td>0.0</td>\n      <td>34.5</td>\n    </tr>\n    <tr>\n      <th>12</th>\n      <td>13-1-2016</td>\n      <td>30</td>\n      <td>22</td>\n      <td>26.0</td>\n      <td>0.00</td>\n      <td>0.0</td>\n      <td>0.0</td>\n      <td>26.0</td>\n    </tr>\n    <tr>\n      <th>13</th>\n      <td>14-1-2016</td>\n      <td>38</td>\n      <td>22</td>\n      <td>30.0</td>\n      <td>0.00</td>\n      <td>0.0</td>\n      <td>0.0</td>\n      <td>30.0</td>\n    </tr>\n    <tr>\n      <th>14</th>\n      <td>15-1-2016</td>\n      <td>51</td>\n      <td>34</td>\n      <td>42.5</td>\n      <td>0.00</td>\n      <td>0.0</td>\n      <td>0.0</td>\n      <td>42.5</td>\n    </tr>\n    <tr>\n      <th>15</th>\n      <td>16-1-2016</td>\n      <td>52</td>\n      <td>42</td>\n      <td>47.0</td>\n      <td>0.24</td>\n      <td>0.0</td>\n      <td>0.0</td>\n      <td>47.0</td>\n    </tr>\n    <tr>\n      <th>16</th>\n      <td>17-1-2016</td>\n      <td>42</td>\n      <td>30</td>\n      <td>36.0</td>\n      <td>0.05</td>\n      <td>0.4</td>\n      <td>0.0</td>\n      <td>36.0</td>\n    </tr>\n    <tr>\n      <th>17</th>\n      <td>18-1-2016</td>\n      <td>31</td>\n      <td>18</td>\n      <td>24.5</td>\n      <td>0.00</td>\n      <td>0.0</td>\n      <td>0.0</td>\n      <td>24.5</td>\n    </tr>\n    <tr>\n      <th>18</th>\n      <td>19-1-2016</td>\n      <td>28</td>\n      <td>16</td>\n      <td>22.0</td>\n      <td>0.00</td>\n      <td>0.0</td>\n      <td>0.0</td>\n      <td>22.0</td>\n    </tr>\n  </tbody>\n</table>\n</div>"
     },
     "metadata": {},
     "output_type": "execute_result",
     "execution_count": 9
    }
   ],
   "source": [
    "# Using iterrows\n",
    "# for lab, row in data.iterrows():\n",
    "#     data.loc[lab,'double_Avg'] = data['average temperature'] * 2\n",
    "\n",
    "# using apply\n",
    "data['avg_float'] = data['average temperature'].apply(abs)\n",
    "data\n"
   ],
   "metadata": {
    "collapsed": false,
    "pycharm": {
     "name": "#%%\n",
     "is_executing": false
    }
   }
  }
 ],
 "metadata": {
  "kernelspec": {
   "name": "python3",
   "language": "python",
   "display_name": "Python 3"
  },
  "language_info": {
   "codemirror_mode": {
    "name": "ipython",
    "version": 3
   },
   "file_extension": ".py",
   "mimetype": "text/x-python",
   "name": "python",
   "nbconvert_exporter": "python",
   "pygments_lexer": "ipython3",
   "version": "3.7.3"
  },
  "stem_cell": {
   "cell_type": "raw",
   "metadata": {
    "pycharm": {
     "metadata": false
    }
   },
   "source": ""
  },
  "pycharm": {
   "stem_cell": {
    "cell_type": "raw",
    "source": [],
    "metadata": {
     "collapsed": false
    }
   }
  }
 },
 "nbformat": 4,
 "nbformat_minor": 1
}